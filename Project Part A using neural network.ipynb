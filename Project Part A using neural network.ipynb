{
 "cells": [
  {
   "cell_type": "code",
   "execution_count": 22,
   "metadata": {},
   "outputs": [],
   "source": [
    "import tensorflow as tf\n",
    "from tensorflow import keras\n",
    "from tensorflow.keras import layers\n",
    "from tensorflow.keras import models\n",
    "import pandas as pd\n",
    "from sklearn import preprocessing\n",
    "from sklearn.model_selection import train_test_split\n",
    "import matplotlib.pyplot as plt \n",
    "from sklearn.metrics import mean_squared_error, r2_score"
   ]
  },
  {
   "cell_type": "code",
   "execution_count": 23,
   "metadata": {},
   "outputs": [
    {
     "name": "stdout",
     "output_type": "stream",
     "text": [
      "      Cement  Blast Furnace Slag  Fly Ash  Water  Superplasticizer  \\\n",
      "1025   276.4               116.0     90.3  179.6               8.9   \n",
      "1026   322.2                 0.0    115.6  196.0              10.4   \n",
      "1027   148.5               139.4    108.6  192.7               6.1   \n",
      "1028   159.1               186.7      0.0  175.6              11.3   \n",
      "1029   260.9               100.5     78.3  200.6               8.6   \n",
      "\n",
      "      Coarse Aggregate  Fine Aggregate  Age in days  \\\n",
      "1025             870.1           768.3           28   \n",
      "1026             817.9           813.4           28   \n",
      "1027             892.4           780.0           28   \n",
      "1028             989.6           788.9           28   \n",
      "1029             864.5           761.5           28   \n",
      "\n",
      "      Concrete compressive strength  \n",
      "1025                      44.284354  \n",
      "1026                      31.178794  \n",
      "1027                      23.696601  \n",
      "1028                      32.768036  \n",
      "1029                      32.401235  \n"
     ]
    }
   ],
   "source": [
    "header_names = ['Cement','Blast Furnace Slag','Fly Ash','Water','Superplasticizer','Coarse Aggregate','Fine Aggregate','Age in days','Concrete compressive strength']\n",
    "\n",
    "df = pd.read_csv('./dataset/Concrete_Data.csv',header=0, skipinitialspace=True, names=header_names)\n",
    "print(df.tail())\n",
    "X = df[['Cement','Blast Furnace Slag','Fly Ash','Water','Superplasticizer','Coarse Aggregate','Fine Aggregate','Age in days']]\n",
    "y = df['Concrete compressive strength']\n",
    "X_train, X_test, y_train, y_test = train_test_split(df, y, test_size=0.20, random_state=42)"
   ]
  },
  {
   "cell_type": "code",
   "execution_count": 24,
   "metadata": {},
   "outputs": [
    {
     "data": {
      "text/html": [
       "<div>\n",
       "<style scoped>\n",
       "    .dataframe tbody tr th:only-of-type {\n",
       "        vertical-align: middle;\n",
       "    }\n",
       "\n",
       "    .dataframe tbody tr th {\n",
       "        vertical-align: top;\n",
       "    }\n",
       "\n",
       "    .dataframe thead th {\n",
       "        text-align: right;\n",
       "    }\n",
       "</style>\n",
       "<table border=\"1\" class=\"dataframe\">\n",
       "  <thead>\n",
       "    <tr style=\"text-align: right;\">\n",
       "      <th></th>\n",
       "      <th>Cement</th>\n",
       "      <th>Blast Furnace Slag</th>\n",
       "      <th>Fly Ash</th>\n",
       "      <th>Water</th>\n",
       "      <th>Superplasticizer</th>\n",
       "      <th>Coarse Aggregate</th>\n",
       "      <th>Fine Aggregate</th>\n",
       "      <th>Age in days</th>\n",
       "      <th>Concrete compressive strength</th>\n",
       "    </tr>\n",
       "  </thead>\n",
       "  <tbody>\n",
       "    <tr>\n",
       "      <th>1025</th>\n",
       "      <td>276.4</td>\n",
       "      <td>116.0</td>\n",
       "      <td>90.3</td>\n",
       "      <td>179.6</td>\n",
       "      <td>8.9</td>\n",
       "      <td>870.1</td>\n",
       "      <td>768.3</td>\n",
       "      <td>28</td>\n",
       "      <td>44.284354</td>\n",
       "    </tr>\n",
       "    <tr>\n",
       "      <th>1026</th>\n",
       "      <td>322.2</td>\n",
       "      <td>0.0</td>\n",
       "      <td>115.6</td>\n",
       "      <td>196.0</td>\n",
       "      <td>10.4</td>\n",
       "      <td>817.9</td>\n",
       "      <td>813.4</td>\n",
       "      <td>28</td>\n",
       "      <td>31.178794</td>\n",
       "    </tr>\n",
       "    <tr>\n",
       "      <th>1027</th>\n",
       "      <td>148.5</td>\n",
       "      <td>139.4</td>\n",
       "      <td>108.6</td>\n",
       "      <td>192.7</td>\n",
       "      <td>6.1</td>\n",
       "      <td>892.4</td>\n",
       "      <td>780.0</td>\n",
       "      <td>28</td>\n",
       "      <td>23.696601</td>\n",
       "    </tr>\n",
       "    <tr>\n",
       "      <th>1028</th>\n",
       "      <td>159.1</td>\n",
       "      <td>186.7</td>\n",
       "      <td>0.0</td>\n",
       "      <td>175.6</td>\n",
       "      <td>11.3</td>\n",
       "      <td>989.6</td>\n",
       "      <td>788.9</td>\n",
       "      <td>28</td>\n",
       "      <td>32.768036</td>\n",
       "    </tr>\n",
       "    <tr>\n",
       "      <th>1029</th>\n",
       "      <td>260.9</td>\n",
       "      <td>100.5</td>\n",
       "      <td>78.3</td>\n",
       "      <td>200.6</td>\n",
       "      <td>8.6</td>\n",
       "      <td>864.5</td>\n",
       "      <td>761.5</td>\n",
       "      <td>28</td>\n",
       "      <td>32.401235</td>\n",
       "    </tr>\n",
       "  </tbody>\n",
       "</table>\n",
       "</div>"
      ],
      "text/plain": [
       "      Cement  Blast Furnace Slag  Fly Ash  Water  Superplasticizer  \\\n",
       "1025   276.4               116.0     90.3  179.6               8.9   \n",
       "1026   322.2                 0.0    115.6  196.0              10.4   \n",
       "1027   148.5               139.4    108.6  192.7               6.1   \n",
       "1028   159.1               186.7      0.0  175.6              11.3   \n",
       "1029   260.9               100.5     78.3  200.6               8.6   \n",
       "\n",
       "      Coarse Aggregate  Fine Aggregate  Age in days  \\\n",
       "1025             870.1           768.3           28   \n",
       "1026             817.9           813.4           28   \n",
       "1027             892.4           780.0           28   \n",
       "1028             989.6           788.9           28   \n",
       "1029             864.5           761.5           28   \n",
       "\n",
       "      Concrete compressive strength  \n",
       "1025                      44.284354  \n",
       "1026                      31.178794  \n",
       "1027                      23.696601  \n",
       "1028                      32.768036  \n",
       "1029                      32.401235  "
      ]
     },
     "execution_count": 24,
     "metadata": {},
     "output_type": "execute_result"
    }
   ],
   "source": [
    "df1 = pd.read_csv('./dataset/Concrete_Data.csv', header=0, skipinitialspace=True, names=header_names)\n",
    "df1.tail()"
   ]
  },
  {
   "cell_type": "code",
   "execution_count": 25,
   "metadata": {},
   "outputs": [
    {
     "name": "stdout",
     "output_type": "stream",
     "text": [
      "Cement                           0\n",
      "Blast Furnace Slag               0\n",
      "Fly Ash                          0\n",
      "Water                            0\n",
      "Superplasticizer                 0\n",
      "Coarse Aggregate                 0\n",
      "Fine Aggregate                   0\n",
      "Age in days                      0\n",
      "Concrete compressive strength    0\n",
      "dtype: int64\n"
     ]
    }
   ],
   "source": [
    "df1.isna().sum()             #to check if anny columsn in df1 has missing values\n",
    "print(df1.isna().sum())\n",
    "df1 = df1.dropna()           #to drop any columns with missing values"
   ]
  },
  {
   "cell_type": "code",
   "execution_count": 26,
   "metadata": {},
   "outputs": [
    {
     "name": "stdout",
     "output_type": "stream",
     "text": [
      "0    79.986111\n",
      "1    61.887366\n",
      "2    40.269535\n",
      "3    41.052780\n",
      "4    44.296075\n",
      "Name: Concrete compressive strength, dtype: float64\n",
      "   Cement  Blast Furnace Slag  Fly Ash  Water  Superplasticizer  \\\n",
      "0   540.0                 0.0      0.0  162.0               2.5   \n",
      "1   540.0                 0.0      0.0  162.0               2.5   \n",
      "2   332.5               142.5      0.0  228.0               0.0   \n",
      "3   332.5               142.5      0.0  228.0               0.0   \n",
      "4   198.6               132.4      0.0  192.0               0.0   \n",
      "\n",
      "   Coarse Aggregate  Fine Aggregate  Age in days  \n",
      "0            1040.0           676.0           28  \n",
      "1            1055.0           676.0           28  \n",
      "2             932.0           594.0          270  \n",
      "3             932.0           594.0          365  \n",
      "4             978.4           825.5          360  \n"
     ]
    }
   ],
   "source": [
    "y = df1['Concrete compressive strength']\n",
    "X = df1.drop('Concrete compressive strength', axis =1)\n",
    "print(y.head())\n",
    "print(X.head())\n",
    "scaler = preprocessing.StandardScaler()\n",
    "X = scaler.fit_transform(X)\n",
    "X_train, X_test, y_train, y_test = train_test_split(X, y, test_size=0.20, random_state=42)"
   ]
  },
  {
   "cell_type": "code",
   "execution_count": 7,
   "metadata": {},
   "outputs": [
    {
     "name": "stdout",
     "output_type": "stream",
     "text": [
      "Model: \"sequential\"\n",
      "_________________________________________________________________\n",
      "Layer (type)                 Output Shape              Param #   \n",
      "=================================================================\n",
      "dense (Dense)                (None, 64)                576       \n",
      "_________________________________________________________________\n",
      "dense_1 (Dense)              (None, 64)                4160      \n",
      "_________________________________________________________________\n",
      "dense_2 (Dense)              (None, 1)                 65        \n",
      "=================================================================\n",
      "Total params: 4,801\n",
      "Trainable params: 4,801\n",
      "Non-trainable params: 0\n",
      "_________________________________________________________________\n"
     ]
    }
   ],
   "source": [
    "model = models.Sequential()\n",
    "model.add(tf.keras.Input(shape=[X.shape[1]]))#input = number of features = 7\n",
    "model.add(layers.Dense(64, activation='relu')) #input_shape=[7]\n",
    "model.add(layers.Dense(64, activation='relu'))\n",
    "model.add(layers.Dense(1))\n",
    "\n",
    "model.summary() #print the hidden and output layers\n",
    "#go through the values in the summary table"
   ]
  },
  {
   "cell_type": "code",
   "execution_count": 8,
   "metadata": {},
   "outputs": [],
   "source": [
    "optimizer = tf.keras.optimizers.Adam(0.001)\n",
    "#mean_squared_error, mse\n",
    "#default value of earning rate in Adam is 0.001\n",
    "model.compile(loss='mse', optimizer='adam', metrics=['mae', 'mse'])"
   ]
  },
  {
   "cell_type": "code",
   "execution_count": 9,
   "metadata": {},
   "outputs": [],
   "source": [
    "# The patience parameter is the amount of epochs to check for improvement\n",
    "early_stop = keras.callbacks.EarlyStopping(monitor='val_loss', patience=10)"
   ]
  },
  {
   "cell_type": "code",
   "execution_count": 10,
   "metadata": {},
   "outputs": [
    {
     "data": {
      "text/html": [
       "<div>\n",
       "<style scoped>\n",
       "    .dataframe tbody tr th:only-of-type {\n",
       "        vertical-align: middle;\n",
       "    }\n",
       "\n",
       "    .dataframe tbody tr th {\n",
       "        vertical-align: top;\n",
       "    }\n",
       "\n",
       "    .dataframe thead th {\n",
       "        text-align: right;\n",
       "    }\n",
       "</style>\n",
       "<table border=\"1\" class=\"dataframe\">\n",
       "  <thead>\n",
       "    <tr style=\"text-align: right;\">\n",
       "      <th></th>\n",
       "      <th>loss</th>\n",
       "      <th>mae</th>\n",
       "      <th>mse</th>\n",
       "      <th>val_loss</th>\n",
       "      <th>val_mae</th>\n",
       "      <th>val_mse</th>\n",
       "    </tr>\n",
       "  </thead>\n",
       "  <tbody>\n",
       "    <tr>\n",
       "      <th>184</th>\n",
       "      <td>20.121651</td>\n",
       "      <td>3.371335</td>\n",
       "      <td>20.121651</td>\n",
       "      <td>33.285648</td>\n",
       "      <td>4.374663</td>\n",
       "      <td>33.285648</td>\n",
       "    </tr>\n",
       "    <tr>\n",
       "      <th>185</th>\n",
       "      <td>20.112579</td>\n",
       "      <td>3.386626</td>\n",
       "      <td>20.112579</td>\n",
       "      <td>32.477509</td>\n",
       "      <td>4.350358</td>\n",
       "      <td>32.477509</td>\n",
       "    </tr>\n",
       "    <tr>\n",
       "      <th>186</th>\n",
       "      <td>19.963364</td>\n",
       "      <td>3.400117</td>\n",
       "      <td>19.963364</td>\n",
       "      <td>32.817623</td>\n",
       "      <td>4.303527</td>\n",
       "      <td>32.817623</td>\n",
       "    </tr>\n",
       "    <tr>\n",
       "      <th>187</th>\n",
       "      <td>20.623339</td>\n",
       "      <td>3.480589</td>\n",
       "      <td>20.623339</td>\n",
       "      <td>32.464378</td>\n",
       "      <td>4.233205</td>\n",
       "      <td>32.464378</td>\n",
       "    </tr>\n",
       "    <tr>\n",
       "      <th>188</th>\n",
       "      <td>19.627707</td>\n",
       "      <td>3.395802</td>\n",
       "      <td>19.627707</td>\n",
       "      <td>32.818527</td>\n",
       "      <td>4.320356</td>\n",
       "      <td>32.818527</td>\n",
       "    </tr>\n",
       "  </tbody>\n",
       "</table>\n",
       "</div>"
      ],
      "text/plain": [
       "          loss       mae        mse   val_loss   val_mae    val_mse\n",
       "184  20.121651  3.371335  20.121651  33.285648  4.374663  33.285648\n",
       "185  20.112579  3.386626  20.112579  32.477509  4.350358  32.477509\n",
       "186  19.963364  3.400117  19.963364  32.817623  4.303527  32.817623\n",
       "187  20.623339  3.480589  20.623339  32.464378  4.233205  32.464378\n",
       "188  19.627707  3.395802  19.627707  32.818527  4.320356  32.818527"
      ]
     },
     "execution_count": 10,
     "metadata": {},
     "output_type": "execute_result"
    }
   ],
   "source": [
    "early_history = model.fit(X_train, y_train, \n",
    "                    epochs=2000, validation_split = 0.2, verbose=0, \n",
    "                    callbacks=[early_stop])\n",
    "\n",
    "ehistory = pd.DataFrame(early_history.history)\n",
    "ehistory.tail()"
   ]
  },
  {
   "cell_type": "code",
   "execution_count": 11,
   "metadata": {},
   "outputs": [
    {
     "name": "stdout",
     "output_type": "stream",
     "text": [
      "7/7 [==============================] - 0s 1ms/step - loss: 38.4794 - mae: 4.6640 - mse: 38.4794\n",
      "Model score: [38.47938919067383, 4.6639933586120605, 38.47938919067383]\n"
     ]
    },
    {
     "data": {
      "image/png": "[encoded data removed]",
      "text/plain": [
       "<Figure size 432x288 with 1 Axes>"
      ]
     },
     "metadata": {
      "needs_background": "light"
     },
     "output_type": "display_data"
    }
   ],
   "source": [
    "score = model.evaluate(X_test, y_test, verbose=1)\n",
    "print(\"Model score:\", score)\n",
    "\n",
    "ehistory['epoch'] = early_history.epoch\n",
    "\n",
    "plt.plot(ehistory['epoch'], ehistory['mae'], label='MAE')\n",
    "plt.plot(ehistory['epoch'], ehistory['val_mae'], label='VAL')\n",
    "plt.xlabel('Epoch')\n",
    "plt.ylim([0, 10])\n",
    "plt.ylabel('Concrete compressive strength')\n",
    "plt.legend()\n",
    "plt.show()"
   ]
  },
  {
   "cell_type": "code",
   "execution_count": 21,
   "metadata": {},
   "outputs": [
    {
     "name": "stdout",
     "output_type": "stream",
     "text": [
      "(206, 2)\n",
      "        actual  predicted\n",
      "31   52.908320  42.330936\n",
      "109  55.895819  44.383377\n",
      "136  74.497882  68.942398\n",
      "88   35.301171  40.488720\n",
      "918  10.535193  10.693653\n",
      "..         ...        ...\n",
      "482  56.144031  56.237072\n",
      "545  18.746163  22.281519\n",
      "110  37.997022  47.871693\n",
      "514  74.364911  67.907379\n",
      "602  35.170171  36.529392\n",
      "\n",
      "[206 rows x 2 columns]\n",
      "R-squared Coefficient of determination: 0.85\n"
     ]
    }
   ],
   "source": [
    "alldata = pd.DataFrame()\n",
    "\n",
    "result = model.predict(X_test)\n",
    "#print(result.shape)\n",
    "\n",
    "r2_value = 0\n",
    "\n",
    "alldata['actual'] = y_test\n",
    "alldata['predicted'] = result\n",
    "\n",
    "r2_value = r2_score(alldata['actual'], alldata['predicted'])\n",
    "\n",
    "print(alldata.shape)\n",
    "print(alldata)\n",
    "print('R-squared Coefficient of determination: %.2f'\n",
    "      %r2_value)"
   ]
  },
  {
   "cell_type": "code",
   "execution_count": null,
   "metadata": {},
   "outputs": [],
   "source": []
  }
 ],
 "metadata": {
  "kernelspec": {
   "display_name": "Python 3",
   "language": "python",
   "name": "python3"
  },
  "language_info": {
   "codemirror_mode": {
    "name": "ipython",
    "version": 3
   },
   "file_extension": ".py",
   "mimetype": "text/x-python",
   "name": "python",
   "nbconvert_exporter": "python",
   "pygments_lexer": "ipython3",
   "version": "3.7.9"
  }
 },
 "nbformat": 4,
 "nbformat_minor": 4
}
